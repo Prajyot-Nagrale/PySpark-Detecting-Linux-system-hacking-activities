{
 "cells": [
  {
   "cell_type": "markdown",
   "metadata": {},
   "source": [
    "**Monash University**\n",
    "\n",
    "**FIT5202 - Data processing for Big Data**\n",
    "\n",
    "**Assignment 1: Detecting Linux system hacking activities**\n",
    "\n",
    "---\n",
    "\n",
    "Name: Prajyot Nagrale\n",
    "\n",
    "Student ID: 31132324\n",
    "\n",
    "---\n",
    "\n",
    "**Introduction:**\n",
    "This assignment is for a start-up company name StopHacking, which is incubated in Monash university for developing cloud service for detecting and stopping computer hackers.\n",
    "\n",
    "---\n"
   ]
  },
  {
   "cell_type": "markdown",
   "metadata": {},
   "source": [
    "# 1. Data preparation and exploration\n",
    "## 1.1 Creating Spark Session\n",
    "### 1.1.1 \n",
    "Create a SparkConf object for using as many local cores as possible, for a proper application name, and for changing the max partition byte configuration1 to enable a minimum of 2 partitions2 when reading each file in Spark SQL (so each dataframe should have at least 4 partitions when reading from the given datafiles).\n",
    "\n",
    "We set spark.sql.files.maxPartitionBytes to some higher digit number which create the maximum number of bytes to pack into a single partition"
   ]
  },
  {
   "cell_type": "code",
   "execution_count": 1,
   "metadata": {},
   "outputs": [],
   "source": [
    "# Import SparkConf class into program\n",
    "from pyspark import SparkConf\n",
    "\n",
    "# local[*]: run Spark in local mode with as many working processors as logical cores on your machine\n",
    "master = \"local[*]\"\n",
    "# The `appName` field is a name to be shown on the Spark cluster UI page\n",
    "app_name = \"Assignment 1: Detecting Linux system hacking activities\"\n",
    "# Setup configuration parameters for Spark\n",
    "spark_conf = SparkConf().setMaster(master).setAppName(app_name).set(\"spark.sql.files.maxPartitionBytes\", 348567394)"
   ]
  },
  {
   "cell_type": "markdown",
   "metadata": {},
   "source": [
    "# 1.1.2\n",
    "Then create a SparkSession using the SparkConf object.\n",
    "The SparkSession object provides methods used to create DataFrames from various input sources."
   ]
  },
  {
   "cell_type": "code",
   "execution_count": 2,
   "metadata": {},
   "outputs": [],
   "source": [
    "from pyspark.sql import SparkSession # Spark SQL\n",
    "\n",
    "# Using SparkSession\n",
    "spark = SparkSession.builder.config(conf=spark_conf).getOrCreate()\n",
    "sc = spark.sparkContext\n",
    "sc.setLogLevel('ERROR')"
   ]
  },
  {
   "cell_type": "markdown",
   "metadata": {},
   "source": [
    "## 1.2 Loading the data\n",
    "### 1.2.1\n",
    "1. Load each activity data into a Spark dataframe and cache the data. Then print out the row count of each dataframe. \n",
    "○ In order to speed up the loading process, please specify the schema before reading the data into dataframes. You may find relevant schema info from the metadata file, however, note that some data may not fully comply with the schema. For those that do not comply with the schema, import them as StringType and further transform them in step 1.2.2.\n",
    "\n",
    "We have Four data files:\n",
    "○ Linux_memory_1.csv\n",
    "○ Linux_memory_2.csv\n",
    "○ Linux_process_1.csv\n",
    "○ Linux_process_2.csv\n",
    "\n",
    "First I'm reading single single data which has two partitioning. I'm also keeping inferSchema as True which will automatically check the datatype of the attributes of the file and correct it.\n",
    "Joining the two dataframes into one with union function\n",
    "Cache the dataframe "
   ]
  },
  {
   "cell_type": "markdown",
   "metadata": {},
   "source": [
    "#### Case 1: PROCESS DATA"
   ]
  },
  {
   "cell_type": "code",
   "execution_count": null,
   "metadata": {
    "scrolled": true
   },
   "outputs": [],
   "source": [
    "df_p1 = spark.read.csv(\"linux_process_1.csv\",header=True, inferSchema=True) # Reading linux_process_1 file \n",
    "df_p2 = spark.read.csv(\"linux_process_2.csv\",header=True, inferSchema=True) # Reading linux_process_2 file \n",
    "df_p = df_p1.union(df_p2) # joining the two dataframe\n",
    "df_p.cache() # Cache the dataframe\n",
    "print(\"Total no of row count in linux_process :\",df_p.count()) # Total no of row count\n",
    "print(\"Total no of Partitioning :\", df_p.rdd.getNumPartitions()) # Total no of partitioning"
   ]
  },
  {
   "cell_type": "markdown",
   "metadata": {},
   "source": [
    "### MEMORY DATA"
   ]
  },
  {
   "cell_type": "code",
   "execution_count": null,
   "metadata": {},
   "outputs": [],
   "source": [
    "#MEMORY DATA\n",
    "df_m1 = spark.read.csv(\"linux_memory_1.csv\",header=True, inferSchema=True) # Reading linux_memory_1 file\n",
    "df_m2 = spark.read.csv(\"linux_memory_2.csv\",header=True, inferSchema=True) # Reading linux_memory_2 file\n",
    "df_m = df_m1.union(df_m2) # joining the two dataframe\n",
    "df_m.cache() # Cache the dataframe\n",
    "print(\"Total no of row count in memory_process :\",df_m.count()) # Row count\n",
    "print(\"Total no of Partitioning :\",df_m.rdd.getNumPartitions()) # Total no of partitioning"
   ]
  },
  {
   "cell_type": "markdown",
   "metadata": {},
   "source": [
    "# 1.2.2\n",
    "For each column in each dataframe above,\n",
    "○ Check the null data (if any) and print out the corresponding count in each column\n",
    "○ Are these columns 'MINFLT', 'MAJFLT', 'VSTEXT', 'RSIZE', 'VGROW', 'RGROW' in memory data following the datatype from the metadata file? If not, please transform them into the proper formats\n",
    "\n",
    "Wrangling the data as per requirement"
   ]
  },
  {
   "cell_type": "code",
   "execution_count": 5,
   "metadata": {},
   "outputs": [],
   "source": [
    "# Importing required function \n",
    "from pyspark.sql import functions as F\n",
    "from pyspark.sql.types import IntegerType\n",
    "from pyspark.sql.functions import *"
   ]
  },
  {
   "cell_type": "markdown",
   "metadata": {},
   "source": [
    "### PROCESS DATA"
   ]
  },
  {
   "cell_type": "code",
   "execution_count": 6,
   "metadata": {},
   "outputs": [
    {
     "name": "stdout",
     "output_type": "stream",
     "text": [
      "root\n",
      " |-- ts: integer (nullable = true)\n",
      " |-- PID: integer (nullable = true)\n",
      " |-- TRUN: integer (nullable = true)\n",
      " |-- TSLPI: integer (nullable = true)\n",
      " |-- TSLPU: integer (nullable = true)\n",
      " |-- POLI: string (nullable = true)\n",
      " |-- NICE: integer (nullable = true)\n",
      " |-- PRI: integer (nullable = true)\n",
      " |-- RTPR: integer (nullable = true)\n",
      " |-- CPUNR: integer (nullable = true)\n",
      " |-- Status: string (nullable = true)\n",
      " |-- EXC: integer (nullable = true)\n",
      " |-- State: string (nullable = true)\n",
      " |-- CPU: double (nullable = true)\n",
      " |-- CMD: string (nullable = true)\n",
      " |-- attack: double (nullable = true)\n",
      " |-- type: string (nullable = true)\n",
      "\n"
     ]
    }
   ],
   "source": [
    "df_p = df_p.withColumn(\"attack\", df_p[\"attack\"].cast(\"double\")) # Changing the datatype of attack column to double\n",
    "df_p.printSchema() # Printing the Schema of the file"
   ]
  },
  {
   "cell_type": "markdown",
   "metadata": {},
   "source": [
    "### MEMORY DATA"
   ]
  },
  {
   "cell_type": "code",
   "execution_count": 7,
   "metadata": {},
   "outputs": [],
   "source": [
    "str_2_int = ['MINFLT', 'MAJFLT', 'VSTEXT', 'RSIZE', 'VGROW', 'RGROW'] # Warngling the features of the dataframe\n",
    "for i in str_2_int:\n",
    "    df_m = df_m.withColumn(i, regexp_replace(i, 'K', '0000')) # Changing K to thousands\n",
    "    df_m = df_m.withColumn(i, regexp_replace(i, 'M', '000000')) # Changing M to Millions\n",
    "    df_m = df_m.withColumn(i, regexp_replace(i, 'G', '000000000')) # Changing G billions\n",
    "    df_m = df_m.withColumn(i, regexp_replace(i, ' ', '')) # Removing unwanted spaces"
   ]
  },
  {
   "cell_type": "code",
   "execution_count": 8,
   "metadata": {},
   "outputs": [
    {
     "name": "stdout",
     "output_type": "stream",
     "text": [
      "root\n",
      " |-- ts: integer (nullable = true)\n",
      " |-- PID: integer (nullable = true)\n",
      " |-- MINFLT: integer (nullable = true)\n",
      " |-- MAJFLT: integer (nullable = true)\n",
      " |-- VSTEXT: integer (nullable = true)\n",
      " |-- VSIZE: double (nullable = true)\n",
      " |-- RSIZE: integer (nullable = true)\n",
      " |-- VGROW: integer (nullable = true)\n",
      " |-- RGROW: integer (nullable = true)\n",
      " |-- MEM: double (nullable = true)\n",
      " |-- CMD: string (nullable = true)\n",
      " |-- attack: double (nullable = true)\n",
      " |-- type: string (nullable = true)\n",
      "\n"
     ]
    }
   ],
   "source": [
    "df_m = df_m.withColumn(\"attack\", df_m[\"attack\"].cast(\"double\")) # Changing attack attribute to double\n",
    "for i in str_2_int:\n",
    "    df_m = df_m.withColumn(i,F.col(i).cast(IntegerType())) # Changing the datatype to integer\n",
    "df_m.printSchema()"
   ]
  },
  {
   "cell_type": "markdown",
   "metadata": {},
   "source": [
    "### PROCESS DATA"
   ]
  },
  {
   "cell_type": "markdown",
   "metadata": {},
   "source": [
    "#### Checking Null values  "
   ]
  },
  {
   "cell_type": "code",
   "execution_count": 9,
   "metadata": {},
   "outputs": [
    {
     "name": "stdout",
     "output_type": "stream",
     "text": [
      "+---+---+----+-----+-----+----+----+---+----+-----+------+---+-----+---+---+------+----+\n",
      "| ts|PID|TRUN|TSLPI|TSLPU|POLI|NICE|PRI|RTPR|CPUNR|Status|EXC|State|CPU|CMD|attack|type|\n",
      "+---+---+----+-----+-----+----+----+---+----+-----+------+---+-----+---+---+------+----+\n",
      "|  0|  0|   0|    0|    0|   0|   0|  0|   0|    0|     0|  0|    0|  0|  0|     0|   0|\n",
      "+---+---+----+-----+-----+----+----+---+----+-----+------+---+-----+---+---+------+----+\n",
      "\n"
     ]
    }
   ],
   "source": [
    "from pyspark.sql.functions import isnan, when, count, col # importing the functions\n",
    "\n",
    "df_p_na_count = df_p.select([count(when(isnan(c) | col(c).isNull(), c)).alias(c) for c in df_p.columns]) # Will check the count of the NA in each attribute of the file\n",
    "df_p_na_count.show()"
   ]
  },
  {
   "cell_type": "markdown",
   "metadata": {},
   "source": [
    "### MEMORY DATA"
   ]
  },
  {
   "cell_type": "code",
   "execution_count": 10,
   "metadata": {},
   "outputs": [
    {
     "name": "stdout",
     "output_type": "stream",
     "text": [
      "+---+---+------+------+------+-----+-----+-----+-----+---+---+------+----+\n",
      "| ts|PID|MINFLT|MAJFLT|VSTEXT|VSIZE|RSIZE|VGROW|RGROW|MEM|CMD|attack|type|\n",
      "+---+---+------+------+------+-----+-----+-----+-----+---+---+------+----+\n",
      "|  0|  0|     0|     0|     0|    0|    0|    0|    0|  0|  0|     0|   0|\n",
      "+---+---+------+------+------+-----+-----+-----+-----+---+---+------+----+\n",
      "\n"
     ]
    }
   ],
   "source": [
    "df_m_na_count = df_m.select([count(when(isnan(c) | col(c).isNull(), c)).alias(c) for c in df_m.columns]) # Will check the count of the NA in each attribute of the file\n",
    "df_m_na_count.show()"
   ]
  },
  {
   "cell_type": "markdown",
   "metadata": {},
   "source": [
    "# 1.3 Exploring the data\n",
    "## 1.3.1 \n",
    "Show the count of attack and non-attack in each activity based on the column\n",
    "“attack”, then show the count of each kind of attack in process activity based on the\n",
    "column “type”.\n",
    "○ Do you see any class imbalance? Examine and describe what you observe\n",
    "\n",
    "Checking the count of attack and type for each dataframe"
   ]
  },
  {
   "cell_type": "markdown",
   "metadata": {},
   "source": [
    "### PROCESS DATA\n",
    "\n",
    "CLASS IMBALACNCE:\n",
    "\n",
    "From below dataframe we can see that the their are more number of non-attack rows in then the attack rows in the attack column. Their are 1636604 of non_attack and 291364 of attack in the process data. When compare with type their are more types for attack then for non attack. So we can say that their is class imbalance in process data. "
   ]
  },
  {
   "cell_type": "code",
   "execution_count": 11,
   "metadata": {},
   "outputs": [
    {
     "name": "stdout",
     "output_type": "stream",
     "text": [
      "+------+-------+\n",
      "|attack|  count|\n",
      "+------+-------+\n",
      "|   0.0|1636604|\n",
      "|   1.0| 291364|\n",
      "+------+-------+\n",
      "\n"
     ]
    }
   ],
   "source": [
    "df_p_count = df_p.groupby('attack').count() # Checking the count of attack\n",
    "df_p_count.show(5)"
   ]
  },
  {
   "cell_type": "code",
   "execution_count": 12,
   "metadata": {},
   "outputs": [
    {
     "name": "stdout",
     "output_type": "stream",
     "text": [
      "+------+---------+-------+\n",
      "|attack|     type|  count|\n",
      "+------+---------+-------+\n",
      "|   1.0| scanning|  38449|\n",
      "|   1.0|      xss|  17759|\n",
      "|   1.0| password|  51409|\n",
      "|   1.0|injection|  41311|\n",
      "|   1.0|     mitm|    112|\n",
      "|   1.0|      dos|  70721|\n",
      "|   0.0|   normal|1636604|\n",
      "|   1.0|     ddos|  71603|\n",
      "+------+---------+-------+\n",
      "\n"
     ]
    }
   ],
   "source": [
    "df_p_count = df_p.groupby('attack', 'type').count()# Checking the count of attack and type\n",
    "df_p_count.show()"
   ]
  },
  {
   "cell_type": "markdown",
   "metadata": {},
   "source": [
    "### MEMORY DATA\n",
    "\n",
    "CLASS IMBALACNCE:\n",
    "\n",
    "From below dataframe we can see that the their are more number of non-attack rows in then the attack rows in the attack column. Their are 1794377 of non_attack and 205623 of attack in the process data. When compare with type their are more types for attack then for non attack. So we can say that their is class imbalance in process data."
   ]
  },
  {
   "cell_type": "code",
   "execution_count": 13,
   "metadata": {},
   "outputs": [
    {
     "name": "stdout",
     "output_type": "stream",
     "text": [
      "+------+-------+\n",
      "|attack|  count|\n",
      "+------+-------+\n",
      "|   0.0|1794377|\n",
      "|   1.0| 205623|\n",
      "+------+-------+\n",
      "\n"
     ]
    }
   ],
   "source": [
    "df_m_count = df_m.groupby('attack').count() # Checking the count of attack\n",
    "df_m_count.show(5)"
   ]
  },
  {
   "cell_type": "code",
   "execution_count": 14,
   "metadata": {},
   "outputs": [
    {
     "name": "stdout",
     "output_type": "stream",
     "text": [
      "+------+---------+-------+\n",
      "|attack|     type|  count|\n",
      "+------+---------+-------+\n",
      "|   1.0| password|  26016|\n",
      "|   1.0|injection|  58523|\n",
      "|   1.0|     mitm|    112|\n",
      "|   1.0|      dos|  75283|\n",
      "|   0.0|   normal|1794377|\n",
      "|   1.0|     ddos|  45689|\n",
      "+------+---------+-------+\n",
      "\n"
     ]
    }
   ],
   "source": [
    "df_m_count = df_m.groupby('attack', 'type').count()# Checking the count of attack and type\n",
    "df_m_count.show()"
   ]
  },
  {
   "cell_type": "markdown",
   "metadata": {},
   "source": [
    "# 1.3.2\n",
    "For each numeric feature in each activity, show the basic statistics (including count, mean, stddev, min, max); for each non numeric feature in each activity, display the top-10 values and the corresponding counts.\n",
    "○ No need to show the labels at “attack” or “type” column"
   ]
  },
  {
   "cell_type": "markdown",
   "metadata": {},
   "source": [
    "### PROCESS DATA"
   ]
  },
  {
   "cell_type": "code",
   "execution_count": 15,
   "metadata": {},
   "outputs": [],
   "source": [
    "int_ty_p1 = [i[0] for i in df_p.dtypes if i[1] != \"string\"] # List of all the datatype which are numeric\n",
    "str_ty_p1 = [i[0] for i in df_p.dtypes if i[1] == \"string\"] # List of all the datatype which are string\n",
    "int_ty_p1_df = df_p.select(int_ty_p1) # Dataframe of the numeric attribute\n",
    "str_ty_p1_df = df_p.select(str_ty_p1) # Dataframe of the string attribute"
   ]
  },
  {
   "cell_type": "code",
   "execution_count": 16,
   "metadata": {},
   "outputs": [
    {
     "data": {
      "text/html": [
       "<div>\n",
       "<style scoped>\n",
       "    .dataframe tbody tr th:only-of-type {\n",
       "        vertical-align: middle;\n",
       "    }\n",
       "\n",
       "    .dataframe tbody tr th {\n",
       "        vertical-align: top;\n",
       "    }\n",
       "\n",
       "    .dataframe thead th {\n",
       "        text-align: right;\n",
       "    }\n",
       "</style>\n",
       "<table border=\"1\" class=\"dataframe\">\n",
       "  <thead>\n",
       "    <tr style=\"text-align: right;\">\n",
       "      <th></th>\n",
       "      <th>0</th>\n",
       "      <th>1</th>\n",
       "      <th>2</th>\n",
       "      <th>3</th>\n",
       "      <th>4</th>\n",
       "    </tr>\n",
       "  </thead>\n",
       "  <tbody>\n",
       "    <tr>\n",
       "      <th>summary</th>\n",
       "      <td>count</td>\n",
       "      <td>mean</td>\n",
       "      <td>stddev</td>\n",
       "      <td>min</td>\n",
       "      <td>max</td>\n",
       "    </tr>\n",
       "    <tr>\n",
       "      <th>ts</th>\n",
       "      <td>1927968</td>\n",
       "      <td>1.5563198311840394E9</td>\n",
       "      <td>771350.0248031854</td>\n",
       "      <td>1554216855</td>\n",
       "      <td>1557593017</td>\n",
       "    </tr>\n",
       "    <tr>\n",
       "      <th>PID</th>\n",
       "      <td>1927968</td>\n",
       "      <td>5068.709770597852</td>\n",
       "      <td>4987.784329320436</td>\n",
       "      <td>1007</td>\n",
       "      <td>53080</td>\n",
       "    </tr>\n",
       "    <tr>\n",
       "      <th>TRUN</th>\n",
       "      <td>1927968</td>\n",
       "      <td>0.0632287465352122</td>\n",
       "      <td>0.2478258709041623</td>\n",
       "      <td>0</td>\n",
       "      <td>12</td>\n",
       "    </tr>\n",
       "    <tr>\n",
       "      <th>TSLPI</th>\n",
       "      <td>1927968</td>\n",
       "      <td>3.508334163222626</td>\n",
       "      <td>6.988459728531801</td>\n",
       "      <td>0</td>\n",
       "      <td>70</td>\n",
       "    </tr>\n",
       "    <tr>\n",
       "      <th>TSLPU</th>\n",
       "      <td>1927968</td>\n",
       "      <td>3.6100184235422994E-4</td>\n",
       "      <td>0.04421874419214574</td>\n",
       "      <td>0</td>\n",
       "      <td>21</td>\n",
       "    </tr>\n",
       "    <tr>\n",
       "      <th>NICE</th>\n",
       "      <td>1927968</td>\n",
       "      <td>4.634469555511295</td>\n",
       "      <td>8.40318986475213</td>\n",
       "      <td>0</td>\n",
       "      <td>20</td>\n",
       "    </tr>\n",
       "    <tr>\n",
       "      <th>PRI</th>\n",
       "      <td>1927968</td>\n",
       "      <td>111.26826741937626</td>\n",
       "      <td>22.62444506210284</td>\n",
       "      <td>0</td>\n",
       "      <td>139</td>\n",
       "    </tr>\n",
       "    <tr>\n",
       "      <th>RTPR</th>\n",
       "      <td>1927968</td>\n",
       "      <td>0.0</td>\n",
       "      <td>0.0</td>\n",
       "      <td>0</td>\n",
       "      <td>0</td>\n",
       "    </tr>\n",
       "    <tr>\n",
       "      <th>CPUNR</th>\n",
       "      <td>1927968</td>\n",
       "      <td>1.9210142491991569</td>\n",
       "      <td>1.5274047225903067</td>\n",
       "      <td>0</td>\n",
       "      <td>5</td>\n",
       "    </tr>\n",
       "    <tr>\n",
       "      <th>EXC</th>\n",
       "      <td>1927968</td>\n",
       "      <td>0.030275398761805176</td>\n",
       "      <td>1.4619498567691867</td>\n",
       "      <td>0</td>\n",
       "      <td>127</td>\n",
       "    </tr>\n",
       "    <tr>\n",
       "      <th>CPU</th>\n",
       "      <td>1927968</td>\n",
       "      <td>0.022385272992090033</td>\n",
       "      <td>0.13628943687184275</td>\n",
       "      <td>0.0</td>\n",
       "      <td>4.02</td>\n",
       "    </tr>\n",
       "    <tr>\n",
       "      <th>attack</th>\n",
       "      <td>1927968</td>\n",
       "      <td>0.1511249149363475</td>\n",
       "      <td>0.35817068774739313</td>\n",
       "      <td>0.0</td>\n",
       "      <td>1.0</td>\n",
       "    </tr>\n",
       "  </tbody>\n",
       "</table>\n",
       "</div>"
      ],
      "text/plain": [
       "               0                      1                    2           3  \\\n",
       "summary    count                   mean               stddev         min   \n",
       "ts       1927968   1.5563198311840394E9    771350.0248031854  1554216855   \n",
       "PID      1927968      5068.709770597852    4987.784329320436        1007   \n",
       "TRUN     1927968     0.0632287465352122   0.2478258709041623           0   \n",
       "TSLPI    1927968      3.508334163222626    6.988459728531801           0   \n",
       "TSLPU    1927968  3.6100184235422994E-4  0.04421874419214574           0   \n",
       "NICE     1927968      4.634469555511295     8.40318986475213           0   \n",
       "PRI      1927968     111.26826741937626    22.62444506210284           0   \n",
       "RTPR     1927968                    0.0                  0.0           0   \n",
       "CPUNR    1927968     1.9210142491991569   1.5274047225903067           0   \n",
       "EXC      1927968   0.030275398761805176   1.4619498567691867           0   \n",
       "CPU      1927968   0.022385272992090033  0.13628943687184275         0.0   \n",
       "attack   1927968     0.1511249149363475  0.35817068774739313         0.0   \n",
       "\n",
       "                  4  \n",
       "summary         max  \n",
       "ts       1557593017  \n",
       "PID           53080  \n",
       "TRUN             12  \n",
       "TSLPI            70  \n",
       "TSLPU            21  \n",
       "NICE             20  \n",
       "PRI             139  \n",
       "RTPR              0  \n",
       "CPUNR             5  \n",
       "EXC             127  \n",
       "CPU            4.02  \n",
       "attack          1.0  "
      ]
     },
     "execution_count": 16,
     "metadata": {},
     "output_type": "execute_result"
    }
   ],
   "source": [
    "int_ty_p1_df.describe().toPandas().transpose() # count, mean, stddev, min, max"
   ]
  },
  {
   "cell_type": "code",
   "execution_count": 17,
   "metadata": {},
   "outputs": [
    {
     "name": "stdout",
     "output_type": "stream",
     "text": [
      "+----+-------+\n",
      "|POLI|  count|\n",
      "+----+-------+\n",
      "|norm|1861558|\n",
      "|   0|  53216|\n",
      "|   -|  13194|\n",
      "+----+-------+\n",
      "\n",
      "+------+-------+\n",
      "|Status|  count|\n",
      "+------+-------+\n",
      "|     -|1416322|\n",
      "|     0| 438984|\n",
      "|    NE|  48602|\n",
      "|     N|  23313|\n",
      "|    NS|    743|\n",
      "|     C|      3|\n",
      "|    NC|      1|\n",
      "+------+-------+\n",
      "\n",
      "+-----+-------+\n",
      "|State|  count|\n",
      "+-----+-------+\n",
      "|    S|1676350|\n",
      "|    I|  98986|\n",
      "|    R|  84753|\n",
      "|    E|  66410|\n",
      "|    Z|   1118|\n",
      "|    D|    344|\n",
      "|    T|      7|\n",
      "+-----+-------+\n",
      "\n",
      "+--------------+------+\n",
      "|           CMD| count|\n",
      "+--------------+------+\n",
      "|          atop|441180|\n",
      "|       apache2|313143|\n",
      "|      vmtoolsd|112029|\n",
      "|          Xorg| 66813|\n",
      "|      nautilus| 63449|\n",
      "|gnome-terminal| 47628|\n",
      "|        compiz| 44386|\n",
      "|    irqbalance| 44324|\n",
      "|      ostinato| 42979|\n",
      "|         drone| 41390|\n",
      "+--------------+------+\n",
      "only showing top 10 rows\n",
      "\n",
      "+---------+-------+\n",
      "|     type|  count|\n",
      "+---------+-------+\n",
      "|   normal|1636604|\n",
      "|     ddos|  71603|\n",
      "|      dos|  70721|\n",
      "| password|  51409|\n",
      "|injection|  41311|\n",
      "| scanning|  38449|\n",
      "|      xss|  17759|\n",
      "|     mitm|    112|\n",
      "+---------+-------+\n",
      "\n"
     ]
    }
   ],
   "source": [
    "for i in str_ty_p1:\n",
    "    a = df_p.groupBy(i).count() # count of the string attribute & displaying the top 10 values\n",
    "    a.sort(\"count\", ascending=False).show(10)"
   ]
  },
  {
   "cell_type": "markdown",
   "metadata": {},
   "source": [
    "### MEMORY DATA\n"
   ]
  },
  {
   "cell_type": "code",
   "execution_count": 18,
   "metadata": {},
   "outputs": [],
   "source": [
    "int_ty_m1 = [i[0] for i in df_m.dtypes if i[1] != \"string\"] # List of all the datatype which are numeric\n",
    "str_ty_m1 = [i[0] for i in df_m.dtypes if i[1] == \"string\"]# List of all the datatype which are string\n",
    "int_ty_m1_df = df_m.select(int_ty_m1) # Dataframe of the numeric attribute\n",
    "str_ty_m1_df = df_m.select(str_ty_m1) # Dataframe of the string attribute"
   ]
  },
  {
   "cell_type": "code",
   "execution_count": 19,
   "metadata": {},
   "outputs": [
    {
     "data": {
      "text/html": [
       "<div>\n",
       "<style scoped>\n",
       "    .dataframe tbody tr th:only-of-type {\n",
       "        vertical-align: middle;\n",
       "    }\n",
       "\n",
       "    .dataframe tbody tr th {\n",
       "        vertical-align: top;\n",
       "    }\n",
       "\n",
       "    .dataframe thead th {\n",
       "        text-align: right;\n",
       "    }\n",
       "</style>\n",
       "<table border=\"1\" class=\"dataframe\">\n",
       "  <thead>\n",
       "    <tr style=\"text-align: right;\">\n",
       "      <th></th>\n",
       "      <th>0</th>\n",
       "      <th>1</th>\n",
       "      <th>2</th>\n",
       "      <th>3</th>\n",
       "      <th>4</th>\n",
       "    </tr>\n",
       "  </thead>\n",
       "  <tbody>\n",
       "    <tr>\n",
       "      <th>summary</th>\n",
       "      <td>count</td>\n",
       "      <td>mean</td>\n",
       "      <td>stddev</td>\n",
       "      <td>min</td>\n",
       "      <td>max</td>\n",
       "    </tr>\n",
       "    <tr>\n",
       "      <th>ts</th>\n",
       "      <td>2000000</td>\n",
       "      <td>1.55624581707609E9</td>\n",
       "      <td>984463.3682865204</td>\n",
       "      <td>1554216855</td>\n",
       "      <td>1558355716</td>\n",
       "    </tr>\n",
       "    <tr>\n",
       "      <th>PID</th>\n",
       "      <td>2000000</td>\n",
       "      <td>4999.360446</td>\n",
       "      <td>4887.313351921492</td>\n",
       "      <td>1007</td>\n",
       "      <td>53096</td>\n",
       "    </tr>\n",
       "    <tr>\n",
       "      <th>MINFLT</th>\n",
       "      <td>2000000</td>\n",
       "      <td>6210.544344</td>\n",
       "      <td>89006.02350214269</td>\n",
       "      <td>0</td>\n",
       "      <td>8050000</td>\n",
       "    </tr>\n",
       "    <tr>\n",
       "      <th>MAJFLT</th>\n",
       "      <td>2000000</td>\n",
       "      <td>1104.864331</td>\n",
       "      <td>5176.1084324939775</td>\n",
       "      <td>0</td>\n",
       "      <td>107776</td>\n",
       "    </tr>\n",
       "    <tr>\n",
       "      <th>VSTEXT</th>\n",
       "      <td>2000000</td>\n",
       "      <td>439325.4261675</td>\n",
       "      <td>6588470.013058634</td>\n",
       "      <td>0</td>\n",
       "      <td>112000000</td>\n",
       "    </tr>\n",
       "    <tr>\n",
       "      <th>VSIZE</th>\n",
       "      <td>2000000</td>\n",
       "      <td>4496.419966449705</td>\n",
       "      <td>9046.338093399056</td>\n",
       "      <td>0.0</td>\n",
       "      <td>88040.0</td>\n",
       "    </tr>\n",
       "    <tr>\n",
       "      <th>RSIZE</th>\n",
       "      <td>2000000</td>\n",
       "      <td>6202.8079545</td>\n",
       "      <td>21037.204140716683</td>\n",
       "      <td>-9728</td>\n",
       "      <td>2160000</td>\n",
       "    </tr>\n",
       "    <tr>\n",
       "      <th>VGROW</th>\n",
       "      <td>2000000</td>\n",
       "      <td>8007.940554</td>\n",
       "      <td>861031.2017992819</td>\n",
       "      <td>-93920000</td>\n",
       "      <td>111600000</td>\n",
       "    </tr>\n",
       "    <tr>\n",
       "      <th>RGROW</th>\n",
       "      <td>2000000</td>\n",
       "      <td>483.174527</td>\n",
       "      <td>1491.4761470120313</td>\n",
       "      <td>0</td>\n",
       "      <td>98920</td>\n",
       "    </tr>\n",
       "    <tr>\n",
       "      <th>MEM</th>\n",
       "      <td>2000000</td>\n",
       "      <td>0.003385165000001898</td>\n",
       "      <td>0.010943425779985838</td>\n",
       "      <td>0.0</td>\n",
       "      <td>0.44</td>\n",
       "    </tr>\n",
       "    <tr>\n",
       "      <th>attack</th>\n",
       "      <td>2000000</td>\n",
       "      <td>0.1028115</td>\n",
       "      <td>0.3037125970196527</td>\n",
       "      <td>0.0</td>\n",
       "      <td>1.0</td>\n",
       "    </tr>\n",
       "  </tbody>\n",
       "</table>\n",
       "</div>"
      ],
      "text/plain": [
       "               0                     1                     2           3  \\\n",
       "summary    count                  mean                stddev         min   \n",
       "ts       2000000    1.55624581707609E9     984463.3682865204  1554216855   \n",
       "PID      2000000           4999.360446     4887.313351921492        1007   \n",
       "MINFLT   2000000           6210.544344     89006.02350214269           0   \n",
       "MAJFLT   2000000           1104.864331    5176.1084324939775           0   \n",
       "VSTEXT   2000000        439325.4261675     6588470.013058634           0   \n",
       "VSIZE    2000000     4496.419966449705     9046.338093399056         0.0   \n",
       "RSIZE    2000000          6202.8079545    21037.204140716683       -9728   \n",
       "VGROW    2000000           8007.940554     861031.2017992819   -93920000   \n",
       "RGROW    2000000            483.174527    1491.4761470120313           0   \n",
       "MEM      2000000  0.003385165000001898  0.010943425779985838         0.0   \n",
       "attack   2000000             0.1028115    0.3037125970196527         0.0   \n",
       "\n",
       "                  4  \n",
       "summary         max  \n",
       "ts       1558355716  \n",
       "PID           53096  \n",
       "MINFLT      8050000  \n",
       "MAJFLT       107776  \n",
       "VSTEXT    112000000  \n",
       "VSIZE       88040.0  \n",
       "RSIZE       2160000  \n",
       "VGROW     111600000  \n",
       "RGROW         98920  \n",
       "MEM            0.44  \n",
       "attack          1.0  "
      ]
     },
     "execution_count": 19,
     "metadata": {},
     "output_type": "execute_result"
    }
   ],
   "source": [
    "int_ty_m1_df.describe().toPandas().transpose() # count, mean, stddev, min, max"
   ]
  },
  {
   "cell_type": "code",
   "execution_count": 20,
   "metadata": {},
   "outputs": [
    {
     "name": "stdout",
     "output_type": "stream",
     "text": [
      "+----------+------+\n",
      "|       CMD| count|\n",
      "+----------+------+\n",
      "|      atop|325985|\n",
      "|   apache2| 89761|\n",
      "| jfsCommit| 81714|\n",
      "|  vmtoolsd| 77871|\n",
      "|      Xorg| 49981|\n",
      "|  nautilus| 48356|\n",
      "|irqbalance| 44387|\n",
      "|    compiz| 44356|\n",
      "|  ostinato| 43024|\n",
      "|     drone| 41392|\n",
      "+----------+------+\n",
      "only showing top 10 rows\n",
      "\n",
      "+---------+-------+\n",
      "|     type|  count|\n",
      "+---------+-------+\n",
      "|   normal|1794377|\n",
      "|      dos|  75283|\n",
      "|injection|  58523|\n",
      "|     ddos|  45689|\n",
      "| password|  26016|\n",
      "|     mitm|    112|\n",
      "+---------+-------+\n",
      "\n"
     ]
    }
   ],
   "source": [
    "for i in str_ty_m1:\n",
    "    a = df_m.groupBy(i).count() # count of the string attribute & displaying the top 10 values\n",
    "    a.sort(\"count\", ascending=False).show(10)"
   ]
  },
  {
   "cell_type": "markdown",
   "metadata": {},
   "source": [
    "# 1.3.3\n",
    "For each activity, present two plots3 worthy of presenting to the StopHacking\n",
    "company, describe your plots and discuss the findings from the plots\n",
    "○ Hint - 1: you can use the basic plots (e.g. histograms, line charts, scatter\n",
    "plots) for relationship between a column and the “attack” label (such as “ts”\n",
    "and “attack”, “PID” and “attack”); or more advanced plots like correlation plots\n",
    "for relationship between each column; 2: if your data is too large for the\n",
    "plotting, consider using sampling before plotting\n",
    "○ 100 words max for each plot’s description and discussion"
   ]
  },
  {
   "cell_type": "markdown",
   "metadata": {},
   "source": [
    "### PROCESS DATA"
   ]
  },
  {
   "cell_type": "code",
   "execution_count": 24,
   "metadata": {},
   "outputs": [
    {
     "data": {
      "image/png": "[encoded data removed]",
      "text/plain": [
       "<Figure size 432x288 with 1 Axes>"
      ]
     },
     "metadata": {
      "needs_background": "light"
     },
     "output_type": "display_data"
    }
   ],
   "source": [
    "# Process PID\n",
    "import matplotlib.pyplot as plt # Import the plt \n",
    "\n",
    "df_pid_co = df_p.groupby('PID', 'attack').count().toPandas() # Change the spark dataframe to pandas\n",
    "fig, ax = plt.subplots() \n",
    "ax.scatter(x = df_pid_co['PID'], y = df_pid_co['count'], c = df_pid_co['attack']) # Scatter plotting \n",
    "plt.show()"
   ]
  },
  {
   "cell_type": "markdown",
   "metadata": {},
   "source": [
    "The above scatter graph is about Process data. The total number of counts are shown for PID compare to attack and non attack. attack and non-attack are array-like or list of color. X-axis represents the PID, while the Y-axis represents the count of PID. From the scatter graph we can say that the are extreme counts are for both attack and non-attack. But most of the attack and non attack lies at the lower end between 0-20000 PIDS and 0-5000 counts."
   ]
  },
  {
   "cell_type": "code",
   "execution_count": 22,
   "metadata": {},
   "outputs": [
    {
     "data": {
      "image/png": "[encoded data removed]",
      "text/plain": [
       "<Figure size 432x288 with 1 Axes>"
      ]
     },
     "metadata": {
      "needs_background": "light"
     },
     "output_type": "display_data"
    }
   ],
   "source": [
    "# Process TSLPI \n",
    "df_tslpi_co = df_p.groupby('TSLPI', 'attack').count().toPandas() # Change the spark dataframe to pandas\n",
    "fig, ax = plt.subplots()\n",
    "ax.scatter(df_tslpi_co['TSLPI'], df_tslpi_co['count'], c = df_tslpi_co['attack']) # Scatter plotting\n",
    "plt.show()"
   ]
  },
  {
   "cell_type": "markdown",
   "metadata": {},
   "source": [
    "From the above scatter plot we can say that most of the attack and the non-attack are distinct because the TSLPI are near zero. But their are few outliers which are most common like. One attack TSLPI is extreme at 800000. Most of attack for TSLPI lies between 10-30 and 50-70."
   ]
  },
  {
   "cell_type": "markdown",
   "metadata": {},
   "source": [
    "### MEMORY DATA"
   ]
  },
  {
   "cell_type": "code",
   "execution_count": 25,
   "metadata": {},
   "outputs": [
    {
     "data": {
      "image/png": "[encoded data removed]",
      "text/plain": [
       "<Figure size 432x288 with 1 Axes>"
      ]
     },
     "metadata": {
      "needs_background": "light"
     },
     "output_type": "display_data"
    }
   ],
   "source": [
    "# Process MINFLT \n",
    "df_min_co = df_m.groupby('MINFLT', 'attack').count().toPandas() # Change the spark dataframe to pandas\n",
    "fig, ax = plt.subplots()\n",
    "ax.scatter(df_min_co['MINFLT'], df_min_co['count'], c = df_min_co['attack']) # Scatter plotting\n",
    "plt.show()"
   ]
  },
  {
   "cell_type": "markdown",
   "metadata": {},
   "source": [
    "From the above scatter plot we can see that the most attack and non attack lies between 0-1 count and 0-100000 MINFLT. We can all see that at the extreme end their are less attack."
   ]
  },
  {
   "cell_type": "code",
   "execution_count": 26,
   "metadata": {},
   "outputs": [
    {
     "data": {
      "image/png": "[encoded data removed]",
      "text/plain": [
       "<Figure size 432x288 with 1 Axes>"
      ]
     },
     "metadata": {
      "needs_background": "light"
     },
     "output_type": "display_data"
    }
   ],
   "source": [
    "# Process MINFLT \n",
    "df_vst_co = df_m.groupby('VSTEXT', 'attack').count().toPandas() # Change the spark dataframe to pandas\n",
    "fig, ax = plt.subplots()\n",
    "ax.scatter(df_vst_co['VSTEXT'], df_vst_co['count'], c = df_vst_co['attack']) # Scatter plotting\n",
    "plt.show()"
   ]
  },
  {
   "cell_type": "markdown",
   "metadata": {},
   "source": [
    "From the above scatter plot we can see that most of the attack and non-attack lies between 0-50000 VSTEXT. We can also say that their are less attacks at the higher VSTEXT. "
   ]
  },
  {
   "cell_type": "markdown",
   "metadata": {},
   "source": [
    "# 2 Feature extraction and ML training\n",
    "## 2.1 Preparing the training data and testing data\n",
    "### 2.1.1\n",
    "Randomly split the dataset into 80% training data and 20% testing data for each use\n",
    "case"
   ]
  },
  {
   "cell_type": "markdown",
   "metadata": {},
   "source": [
    "### PROCESS DATA"
   ]
  },
  {
   "cell_type": "code",
   "execution_count": 27,
   "metadata": {},
   "outputs": [],
   "source": [
    "train_p, test_p = df_p.randomSplit([0.8, 0.2], seed = 2020) # Randomly splitting the data for train and test data\n",
    "# print(\"Records for training\", train_p.count())\n",
    "# print(\"Records for test\", test_p.count())"
   ]
  },
  {
   "cell_type": "markdown",
   "metadata": {},
   "source": [
    "### MEMORY DATA"
   ]
  },
  {
   "cell_type": "code",
   "execution_count": 28,
   "metadata": {},
   "outputs": [],
   "source": [
    "train_m, test_m = df_m.randomSplit([0.8, 0.2], seed = 2020) # Randomly splitting the data for train and test data\n",
    "# print(\"Records for training\", train_m.count())\n",
    "# print(\"Records for test\", test_m.count())"
   ]
  },
  {
   "cell_type": "markdown",
   "metadata": {},
   "source": [
    "# 2.1.2\n",
    "With the class imbalance observed from 1.3.1, for the binary classification use case 1\n",
    "& 2, prepare rebalanced training data, with attack events and non-attack events\n",
    "being 1:2 ratio, while using 20%4 attack events data from the training data from 2.1.1.\n",
    "Cache the rebalanced training data, and display the count of each event's data.\n",
    "○ Hint - you can use undersampling to get the rebalanced training data"
   ]
  },
  {
   "cell_type": "markdown",
   "metadata": {},
   "source": [
    "### PROCESS DATA"
   ]
  },
  {
   "cell_type": "code",
   "execution_count": 29,
   "metadata": {},
   "outputs": [
    {
     "name": "stdout",
     "output_type": "stream",
     "text": [
      "+------+-----+\n",
      "|attack|count|\n",
      "+------+-----+\n",
      "|   0.0|93541|\n",
      "|   1.0|46802|\n",
      "+------+-----+\n",
      "\n"
     ]
    }
   ],
   "source": [
    "major_p = train_p.filter(col(\"attack\") == 0) # Getting only 0 data from attack\n",
    "minor_p = train_p.filter(col(\"attack\") == 1) # Getting only 1 data from attack\n",
    "output_p_1 = train_p.sampleBy(\"attack\", fractions={1: 0.2}) # getting only 20% of 1 frm data\n",
    "ratio = (major_p.count()/output_p_1.count()) # getting ration for the 1/2 calculation\n",
    "output_p_0 = train_p.sampleBy(\"attack\", fractions={0: 2*(1/ratio)}) # Getting 1/2 of the attack data\n",
    "all_data_p = output_p_0.union(output_p_1) # Joining the 1 and 0 attack data\n",
    "all_data_p.groupby('attack').count().show() #Display the count"
   ]
  },
  {
   "cell_type": "markdown",
   "metadata": {},
   "source": [
    "### MEMORY DATA"
   ]
  },
  {
   "cell_type": "code",
   "execution_count": 30,
   "metadata": {},
   "outputs": [
    {
     "name": "stdout",
     "output_type": "stream",
     "text": [
      "+------+-----+\n",
      "|attack|count|\n",
      "+------+-----+\n",
      "|   0.0|66015|\n",
      "|   1.0|32888|\n",
      "+------+-----+\n",
      "\n"
     ]
    }
   ],
   "source": [
    "major_m = train_m.filter(col(\"attack\") == 0) # Getting only 0 data from attack\n",
    "minor_m = train_m.filter(col(\"attack\") == 1) # Getting only 1 data from attack\n",
    "output_m_1 = train_m.sampleBy(\"attack\", fractions={1: 0.2}) # getting only 20% of 1 frm data\n",
    "ratio = (major_m.count()/output_m_1.count()) # getting ration for the 1/2 calculation\n",
    "output_m_0 = train_m.sampleBy(\"attack\", fractions={0: 2*(1/ratio)}) # Getting 1/2 of the attack data\n",
    "all_data_m = output_m_0.union(output_m_1) # Joining the 1 and 0 attack data\n",
    "all_data_m.groupby('attack').count().show() #Display the count"
   ]
  },
  {
   "cell_type": "markdown",
   "metadata": {},
   "source": [
    "# 2.2 Preparing features, labels and models\n",
    "## 2.2.1\n",
    "Based on data exploration from 1.3.3, which features would you select? Discuss the\n",
    "reason for selecting them and how you plan to further transform them5.\n",
    "○ 400 words max for the discussion\n",
    "○ Hint - things to consider include whether to scale the numeric data, whether to\n",
    "choose one-hot encoding or string-indexing for a specific model"
   ]
  },
  {
   "cell_type": "markdown",
   "metadata": {},
   "source": [
    "### PROCESS DATA"
   ]
  },
  {
   "cell_type": "code",
   "execution_count": 31,
   "metadata": {},
   "outputs": [],
   "source": [
    "numericInputCols_p = [i[0] for i in all_data_p.dtypes if i[1] != \"string\" and i[0] != 'RTPR' and i[0] != 'attack'] # Removing the unwanted attributrs from out data and getting only the numberic data\n",
    "categoryInputCols_p= [i[0] for i in all_data_p.dtypes if i[1] == \"string\" and i[0] != 'CMD' and i[0] != 'type'] # Removing the unwanted attributrs from out data and getting only the string data\n",
    "categoryCols_p = categoryInputCols_p"
   ]
  },
  {
   "cell_type": "markdown",
   "metadata": {},
   "source": [
    "### MEMORY DATA"
   ]
  },
  {
   "cell_type": "code",
   "execution_count": 32,
   "metadata": {},
   "outputs": [],
   "source": [
    "numericInputCols_m = [i[0] for i in all_data_m.dtypes if i[1] != \"string\" and i[0] != 'attack'] # Removing the unwanted attributrs from out data and getting only the numberic data\n",
    "categoryInputCols_m= [i[0] for i in all_data_m.dtypes if i[1] == \"string\" and i[0] != 'type'] # Removing the unwanted attributrs from out data and getting only the string data\n",
    "categoryCols_m = categoryInputCols_m"
   ]
  },
  {
   "cell_type": "markdown",
   "metadata": {},
   "source": [
    "From the graphs from 1.3.3 and from the counts from 1.3.1, we can clearly see that their are some attributes which are not efficient for machine learning. Like \"RTPR\" in process data their are only 0 in that column. \"CMD\" in the process data has many values that will manipulate the data when training the data. From 1.3.1 we were able to see the \"type\" in process and memory data is also creating imbalance in the data. If we remove this features, then it will futher help us to predic the data better. "
   ]
  },
  {
   "cell_type": "markdown",
   "metadata": {},
   "source": [
    "# 2.2.2\n",
    "Create Transformers / Estimators for transforming / assembling the features you\n",
    "selected above in 2.2.1"
   ]
  },
  {
   "cell_type": "code",
   "execution_count": 33,
   "metadata": {},
   "outputs": [],
   "source": [
    "#Importing requred libraries for Machine Learning\n",
    "from pyspark.ml.feature import StringIndexer\n",
    "from pyspark.ml.feature import OneHotEncoder\n",
    "from pyspark.ml.feature import VectorAssembler\n",
    "from pyspark.ml.classification import DecisionTreeClassifier\n",
    "from pyspark.ml.classification import GBTClassifier\n",
    "from pyspark.ml import Pipeline"
   ]
  },
  {
   "cell_type": "markdown",
   "metadata": {},
   "source": [
    "### PROCESS DATA "
   ]
  },
  {
   "cell_type": "code",
   "execution_count": 34,
   "metadata": {},
   "outputs": [],
   "source": [
    "# STRING INDEXING\n",
    "outputCols_p=[f'{x}_index' for x in categoryInputCols_p]\n",
    "inputIndexer_p = StringIndexer(inputCols=categoryCols_p, outputCols=outputCols_p, handleInvalid='keep') \n",
    "\n",
    "# ONE HOT ENCODING\n",
    "inputCols_OHE_p = outputCols_p\n",
    "outputCols_OHE_p = [f'{x}_vec' for x in categoryInputCols_p]\n",
    "encoder_p = OneHotEncoder(inputCols=inputCols_OHE_p, outputCols=outputCols_OHE_p)\n",
    "\n",
    "# VECTOR ASSEMBLE\n",
    "inputCols_p=outputCols_OHE_p\n",
    "assemblerInputs_p = outputCols_OHE_p + numericInputCols_p\n",
    "assembler_p = VectorAssembler(inputCols = assemblerInputs_p, outputCol=\"features\", handleInvalid='keep')"
   ]
  },
  {
   "cell_type": "markdown",
   "metadata": {},
   "source": [
    "### MEMORY DATA"
   ]
  },
  {
   "cell_type": "code",
   "execution_count": 35,
   "metadata": {},
   "outputs": [],
   "source": [
    "# STRING INDEXING\n",
    "outputCols_m=[f'{x}_index' for x in categoryInputCols_m]\n",
    "inputIndexer_m = StringIndexer(inputCols=categoryCols_m, outputCols=outputCols_m, handleInvalid='keep')\n",
    "\n",
    "# ONE HOT ENCODING\n",
    "inputCols_OHE_m = outputCols_m\n",
    "outputCols_OHE_m = [f'{x}_vec' for x in categoryInputCols_m]\n",
    "encoder_m = OneHotEncoder(inputCols=inputCols_OHE_m, outputCols=outputCols_OHE_m)\n",
    "\n",
    "# VECTOR ASSEMBLE\n",
    "inputCols_m=outputCols_OHE_m\n",
    "assemblerInputs_m = outputCols_OHE_m + numericInputCols_m\n",
    "assembler_m = VectorAssembler(inputCols = assemblerInputs_m, outputCol=\"features\", handleInvalid='keep')"
   ]
  },
  {
   "cell_type": "markdown",
   "metadata": {},
   "source": [
    "# 2.2.3\n",
    "Prepare Estimators for Decision Tree and Gradient Boosted Tree model for each use\n",
    "case and include them into ML Pipelines for use case 1, 2\n",
    "○ A maximum of two pipelines can be created for each use case"
   ]
  },
  {
   "cell_type": "code",
   "execution_count": 36,
   "metadata": {},
   "outputs": [],
   "source": [
    "# DECISION TREE\n",
    "dt = DecisionTreeClassifier(featuresCol = 'features', labelCol = 'attack', maxDepth = 3)\n",
    "\n",
    "#Gradient Boosted Tree \n",
    "gbt = GBTClassifier(labelCol=\"attack\")\n",
    "\n",
    "#STAGES\n",
    "stages_p_dt = [inputIndexer_p,encoder_p,assembler_p,dt]\n",
    "stages_p_gbt = [inputIndexer_p,encoder_p,assembler_p,gbt]\n",
    "stages_m_dt = [inputIndexer_m,encoder_m,assembler_m,dt]\n",
    "stages_m_gbt = [inputIndexer_m,encoder_m,assembler_m,gbt]"
   ]
  },
  {
   "cell_type": "markdown",
   "metadata": {},
   "source": [
    "# 2.3 Training and evaluating models\n",
    "## 2.3.1\n",
    "For each use case, use the corresponding ML Pipeline from previous step to train the\n",
    "models on the rebalanced training data from 2.1.2"
   ]
  },
  {
   "cell_type": "markdown",
   "metadata": {},
   "source": [
    "### PROCESS DATA "
   ]
  },
  {
   "cell_type": "markdown",
   "metadata": {},
   "source": [
    "#### Decision Tree"
   ]
  },
  {
   "cell_type": "code",
   "execution_count": 37,
   "metadata": {},
   "outputs": [
    {
     "name": "stdout",
     "output_type": "stream",
     "text": [
      "+--------------------+------+----------+\n",
      "|            features|attack|prediction|\n",
      "+--------------------+------+----------+\n",
      "|(24,[0,6,8,14,15,...|   0.0|       0.0|\n",
      "|(24,[0,6,8,14,15,...|   0.0|       0.0|\n",
      "|(24,[0,6,8,14,15,...|   0.0|       0.0|\n",
      "|(24,[0,6,8,14,15,...|   0.0|       0.0|\n",
      "|(24,[0,6,8,14,15,...|   0.0|       0.0|\n",
      "|(24,[0,6,8,14,15,...|   0.0|       0.0|\n",
      "|(24,[0,6,8,14,15,...|   0.0|       0.0|\n",
      "|(24,[0,6,8,14,15,...|   0.0|       0.0|\n",
      "|(24,[0,6,8,14,15,...|   0.0|       0.0|\n",
      "|(24,[0,6,8,14,15,...|   0.0|       0.0|\n",
      "|(24,[0,6,10,14,15...|   0.0|       0.0|\n",
      "|(24,[0,6,10,14,15...|   0.0|       0.0|\n",
      "|(24,[0,6,8,14,15,...|   0.0|       0.0|\n",
      "|(24,[0,6,8,14,15,...|   0.0|       0.0|\n",
      "|(24,[0,6,8,14,15,...|   0.0|       0.0|\n",
      "|(24,[0,6,8,14,15,...|   0.0|       0.0|\n",
      "|(24,[0,6,8,14,15,...|   0.0|       0.0|\n",
      "|(24,[0,6,8,14,15,...|   0.0|       0.0|\n",
      "|(24,[0,6,8,14,15,...|   0.0|       0.0|\n",
      "|(24,[0,6,8,14,15,...|   0.0|       0.0|\n",
      "+--------------------+------+----------+\n",
      "only showing top 20 rows\n",
      "\n"
     ]
    }
   ],
   "source": [
    "# PIPELINE with DECISION TREE\n",
    "pipeline_p_dt = Pipeline(stages = stages_p_dt) # Pipeline all the stages\n",
    "pipelineModel_p_dt = pipeline_p_dt.fit(all_data_p) # Fit the data\n",
    "predictions_p_dt = pipelineModel_p_dt.transform(test_p) # Transform the data\n",
    "\n",
    "Predictions_p_dt = predictions_p_dt.select('features','attack','prediction') # Selecting requred columns\n",
    "Predictions_p_dt.show()"
   ]
  },
  {
   "cell_type": "markdown",
   "metadata": {},
   "source": [
    "#### Gradient Boosted Tree "
   ]
  },
  {
   "cell_type": "code",
   "execution_count": 38,
   "metadata": {},
   "outputs": [
    {
     "name": "stdout",
     "output_type": "stream",
     "text": [
      "+--------------------+------+----------+\n",
      "|            features|attack|prediction|\n",
      "+--------------------+------+----------+\n",
      "|(24,[0,6,8,14,15,...|   0.0|       0.0|\n",
      "|(24,[0,6,8,14,15,...|   0.0|       0.0|\n",
      "|(24,[0,6,8,14,15,...|   0.0|       0.0|\n",
      "|(24,[0,6,8,14,15,...|   0.0|       0.0|\n",
      "|(24,[0,6,8,14,15,...|   0.0|       0.0|\n",
      "|(24,[0,6,8,14,15,...|   0.0|       0.0|\n",
      "|(24,[0,6,8,14,15,...|   0.0|       0.0|\n",
      "|(24,[0,6,8,14,15,...|   0.0|       0.0|\n",
      "|(24,[0,6,8,14,15,...|   0.0|       0.0|\n",
      "|(24,[0,6,8,14,15,...|   0.0|       0.0|\n",
      "|(24,[0,6,10,14,15...|   0.0|       0.0|\n",
      "|(24,[0,6,10,14,15...|   0.0|       0.0|\n",
      "|(24,[0,6,8,14,15,...|   0.0|       0.0|\n",
      "|(24,[0,6,8,14,15,...|   0.0|       0.0|\n",
      "|(24,[0,6,8,14,15,...|   0.0|       0.0|\n",
      "|(24,[0,6,8,14,15,...|   0.0|       0.0|\n",
      "|(24,[0,6,8,14,15,...|   0.0|       0.0|\n",
      "|(24,[0,6,8,14,15,...|   0.0|       0.0|\n",
      "|(24,[0,6,8,14,15,...|   0.0|       0.0|\n",
      "|(24,[0,6,8,14,15,...|   0.0|       0.0|\n",
      "+--------------------+------+----------+\n",
      "only showing top 20 rows\n",
      "\n"
     ]
    }
   ],
   "source": [
    "# PIPELINE with Gradient Boosted Tree \n",
    "pipeline_p_gbt = Pipeline(stages = stages_p_gbt) # Pipeline all the stages\n",
    "pipelineModel_p_gbt = pipeline_p_gbt.fit(all_data_p) # Fit the data\n",
    "predictions_p_gbt = pipelineModel_p_gbt.transform(test_p) # Transform the data\n",
    "\n",
    "Predictions_p_gbt = predictions_p_gbt.select('features','attack','prediction') # Selecting requred columns\n",
    "Predictions_p_gbt.show()"
   ]
  },
  {
   "cell_type": "markdown",
   "metadata": {},
   "source": [
    "### MEMORY DATA"
   ]
  },
  {
   "cell_type": "markdown",
   "metadata": {},
   "source": [
    "#### Decision Tree"
   ]
  },
  {
   "cell_type": "code",
   "execution_count": 39,
   "metadata": {
    "scrolled": true
   },
   "outputs": [
    {
     "name": "stdout",
     "output_type": "stream",
     "text": [
      "+--------------------+------+----------+\n",
      "|            features|attack|prediction|\n",
      "+--------------------+------+----------+\n",
      "|(438,[22,428,429,...|   0.0|       0.0|\n",
      "|(438,[11,428,429,...|   0.0|       0.0|\n",
      "|(438,[26,428,429,...|   0.0|       0.0|\n",
      "|(438,[33,428,429,...|   0.0|       0.0|\n",
      "|(438,[181,428,429...|   0.0|       0.0|\n",
      "|(438,[283,428,429...|   0.0|       0.0|\n",
      "|(438,[80,428,429,...|   0.0|       0.0|\n",
      "|(438,[248,428,429...|   0.0|       0.0|\n",
      "|(438,[256,428,429...|   0.0|       0.0|\n",
      "|(438,[24,428,429,...|   0.0|       0.0|\n",
      "|(438,[133,428,429...|   0.0|       0.0|\n",
      "|(438,[87,428,429,...|   0.0|       0.0|\n",
      "|(438,[257,428,429...|   0.0|       0.0|\n",
      "|(438,[350,428,429...|   0.0|       0.0|\n",
      "|(438,[95,428,429,...|   0.0|       0.0|\n",
      "|(438,[0,428,429,4...|   0.0|       0.0|\n",
      "|(438,[8,428,429,4...|   0.0|       0.0|\n",
      "|(438,[37,428,429,...|   0.0|       0.0|\n",
      "|(438,[226,428,429...|   0.0|       0.0|\n",
      "|(438,[425,428,429...|   0.0|       0.0|\n",
      "+--------------------+------+----------+\n",
      "only showing top 20 rows\n",
      "\n"
     ]
    }
   ],
   "source": [
    "# PIPELINE with DECISION TREE\n",
    "pipeline_m_dt = Pipeline(stages = stages_m_dt) # Pipeline all the stages\n",
    "pipelineModel_m_dt = pipeline_m_dt.fit(all_data_m) # Fit the data\n",
    "predictions_m_dt = pipelineModel_m_dt.transform(test_m)# Transform the data\n",
    "\n",
    "Predictions_m_dt = predictions_m_dt.select('features','attack','prediction') # Selecting requred columns\n",
    "Predictions_m_dt.show()"
   ]
  },
  {
   "cell_type": "markdown",
   "metadata": {},
   "source": [
    "#### Gradient Boosted Tree "
   ]
  },
  {
   "cell_type": "code",
   "execution_count": 40,
   "metadata": {
    "scrolled": false
   },
   "outputs": [
    {
     "name": "stdout",
     "output_type": "stream",
     "text": [
      "+--------------------+------+----------+\n",
      "|            features|attack|prediction|\n",
      "+--------------------+------+----------+\n",
      "|(438,[22,428,429,...|   0.0|       0.0|\n",
      "|(438,[11,428,429,...|   0.0|       0.0|\n",
      "|(438,[26,428,429,...|   0.0|       0.0|\n",
      "|(438,[33,428,429,...|   0.0|       0.0|\n",
      "|(438,[181,428,429...|   0.0|       0.0|\n",
      "|(438,[283,428,429...|   0.0|       0.0|\n",
      "|(438,[80,428,429,...|   0.0|       0.0|\n",
      "|(438,[248,428,429...|   0.0|       0.0|\n",
      "|(438,[256,428,429...|   0.0|       0.0|\n",
      "|(438,[24,428,429,...|   0.0|       0.0|\n",
      "|(438,[133,428,429...|   0.0|       0.0|\n",
      "|(438,[87,428,429,...|   0.0|       0.0|\n",
      "|(438,[257,428,429...|   0.0|       0.0|\n",
      "|(438,[350,428,429...|   0.0|       0.0|\n",
      "|(438,[95,428,429,...|   0.0|       0.0|\n",
      "|(438,[0,428,429,4...|   0.0|       0.0|\n",
      "|(438,[8,428,429,4...|   0.0|       0.0|\n",
      "|(438,[37,428,429,...|   0.0|       0.0|\n",
      "|(438,[226,428,429...|   0.0|       0.0|\n",
      "|(438,[425,428,429...|   0.0|       0.0|\n",
      "+--------------------+------+----------+\n",
      "only showing top 20 rows\n",
      "\n"
     ]
    }
   ],
   "source": [
    "# PIPELINE with Gradient Boosted Tree \n",
    "pipeline_m_gbt = Pipeline(stages = stages_m_gbt) # Pipeline all the stages\n",
    "pipelineModel_m_gbt = pipeline_m_gbt.fit(all_data_m) # Fit the data\n",
    "predictions_m_gbt = pipelineModel_m_gbt.transform(test_m)# Transform the data\n",
    "\n",
    "Predictions_m_gbt = predictions_m_gbt.select('features','attack','prediction') # Selecting requred columns\n",
    "Predictions_m_gbt.show()"
   ]
  },
  {
   "cell_type": "markdown",
   "metadata": {},
   "source": [
    "# 2.3.2\n",
    "For each use case, test the models on the testing data from 2.1.1 and display the\n",
    "count of each combination of attack label and prediction label"
   ]
  },
  {
   "cell_type": "code",
   "execution_count": null,
   "metadata": {},
   "outputs": [
    {
     "name": "stdout",
     "output_type": "stream",
     "text": [
      "Process Data: Decision Tree \n",
      "\n",
      "+------+----------+------+\n",
      "|attack|prediction| count|\n",
      "+------+----------+------+\n",
      "|   1.0|       1.0| 57042|\n",
      "|   0.0|       1.0| 54319|\n",
      "|   1.0|       0.0|  1370|\n",
      "|   0.0|       0.0|272687|\n",
      "+------+----------+------+\n",
      "\n",
      "Process Data: Gradient Boosted Tree \n",
      "\n",
      "+------+----------+------+\n",
      "|attack|prediction| count|\n",
      "+------+----------+------+\n",
      "|   1.0|       1.0| 52430|\n",
      "|   0.0|       1.0| 24966|\n",
      "|   1.0|       0.0|  5982|\n",
      "|   0.0|       0.0|302040|\n",
      "+------+----------+------+\n",
      "\n",
      "Memory Data: Decision Tree \n",
      "\n",
      "+------+----------+------+\n",
      "|attack|prediction| count|\n",
      "+------+----------+------+\n",
      "|   1.0|       1.0| 40059|\n",
      "|   0.0|       1.0| 43777|\n",
      "|   1.0|       0.0|  1290|\n",
      "|   0.0|       0.0|314711|\n",
      "+------+----------+------+\n",
      "\n",
      "Memory Data: Gradient Boosted Tree \n",
      "\n"
     ]
    }
   ],
   "source": [
    "print(\"Process Data: Decision Tree \\n\")\n",
    "Predictions_p_dt.groupBy('attack', 'prediction').count().show()\n",
    "print(\"Process Data: Gradient Boosted Tree \\n\")\n",
    "Predictions_p_gbt.groupBy('attack', 'prediction').count().show()\n",
    "print(\"Memory Data: Decision Tree \\n\")\n",
    "Predictions_m_dt.groupBy('attack', 'prediction').count().show()\n",
    "print(\"Memory Data: Gradient Boosted Tree \\n\")\n",
    "Predictions_m_gbt.groupBy('attack', 'prediction').count().show()"
   ]
  },
  {
   "cell_type": "markdown",
   "metadata": {},
   "source": [
    "# 2.3.3\n",
    "Compute the AUC, accuracy, recall and precision for the attack label from each\n",
    "model testing result using pyspark MLlib / ML APIs. Discuss which metric is more\n",
    "proper for measuring the model performance on identifying attacks."
   ]
  },
  {
   "cell_type": "code",
   "execution_count": 42,
   "metadata": {},
   "outputs": [],
   "source": [
    "from pyspark.ml.evaluation import MulticlassClassificationEvaluator\n",
    "from pyspark.ml.evaluation import BinaryClassificationEvaluator\n",
    "\n",
    "def confusion_matrix(predictions):\n",
    "     # Calculate the elements of the confusion matrix\n",
    "    TN = predictions.filter('prediction = 0 AND attack = 0').count()\n",
    "    TP = predictions.filter('prediction = 1 AND attack = 1').count()\n",
    "    FN = predictions.filter('prediction = 0 AND attack = 1').count()\n",
    "    FP = predictions.filter('prediction = 1 AND attack = 0').count()\n",
    "    evaluator = BinaryClassificationEvaluator(rawPredictionCol=\"prediction\", labelCol='attack')\n",
    "    auc_dt = evaluator.evaluate(predictions)\n",
    "    evaluator = MulticlassClassificationEvaluator(labelCol=\"attack\", predictionCol=\"prediction\", metricName=\"accuracy\")\n",
    "    accuracy = evaluator.evaluate(predictions)\n",
    "    precision = TP/(TP+FP)\n",
    "    recall = TP/(TP+FN)\n",
    "    TPR = TP/(TP+FN)\n",
    "    FPR = FP/(FP+TN)\n",
    "    return TP,TN,FP,FN, auc_dt, accuracy, precision, recall, TPR, FPR"
   ]
  },
  {
   "cell_type": "code",
   "execution_count": 43,
   "metadata": {},
   "outputs": [],
   "source": [
    "p_dt = confusion_matrix(Predictions_p_dt)\n",
    "p_gbt = confusion_matrix(Predictions_p_gbt)\n",
    "m_dt = confusion_matrix(Predictions_m_dt)\n",
    "m_gbt = confusion_matrix(Predictions_m_gbt)"
   ]
  },
  {
   "cell_type": "code",
   "execution_count": 44,
   "metadata": {},
   "outputs": [
    {
     "name": "stdout",
     "output_type": "stream",
     "text": [
      " Process Data: Decision Tree\n",
      "   AUC:  0.9052179066337919 \n",
      "   Accuracy:  0.8555101214784987 \n",
      "   Recall:  0.9765459152228994 \n",
      "   Precision:  0.512226003717639\n",
      "\n",
      " Process Data: Gradient Boosted Tree \n",
      "   AUC:  0.9106211567049484 \n",
      "   Accuracy:  0.9197027642715182 \n",
      "   Recall:  0.8975895363966309 \n",
      "   Precision:  0.6774251899322963\n",
      "\n",
      " Memory Data: Decision Tree\n",
      "   AUC:  0.9233432420041737 \n",
      "   Accuracy:  0.8872865692769804 \n",
      "   Recall:  0.9688021475730972 \n",
      "   Precision:  0.4778257550455651\n",
      "\n",
      " Memory Data: Gradient Boosted Tree \n",
      "   AUC:  0.9458834831590349 \n",
      "   Accuracy:  0.945122637474771 \n",
      "   Recall:  0.946842728965634 \n",
      "   Precision:  0.6647593174293234\n"
     ]
    }
   ],
   "source": [
    "print(\" Process Data: Decision Tree\\n   AUC: \", p_dt[4], \"\\n   Accuracy: \", p_dt[5], \"\\n   Recall: \", p_dt[7], \"\\n   Precision: \", p_dt[6])\n",
    "print(\"\\n Process Data: Gradient Boosted Tree \\n   AUC: \", p_gbt[4], \"\\n   Accuracy: \", p_gbt[5], \"\\n   Recall: \", p_gbt[7], \"\\n   Precision: \", p_gbt[6])\n",
    "print(\"\\n Memory Data: Decision Tree\\n   AUC: \", m_dt[4], \"\\n   Accuracy: \", m_dt[5], \"\\n   Recall: \", m_dt[7], \"\\n   Precision: \", m_dt[6])\n",
    "print(\"\\n Memory Data: Gradient Boosted Tree \\n   AUC: \", m_gbt[4], \"\\n   Accuracy: \", m_gbt[5], \"\\n   Recall: \", m_gbt[7], \"\\n   Precision: \", m_gbt[6])\n"
   ]
  },
  {
   "cell_type": "markdown",
   "metadata": {},
   "source": [
    "# 2.3.4\n",
    "Display the top-5 most important features in each model. Discuss which pipeline model is better, and whether the feature “ts”  should be included in the model6. And visualise the ROC curve for the better model you selected for each use case."
   ]
  },
  {
   "cell_type": "code",
   "execution_count": 45,
   "metadata": {},
   "outputs": [],
   "source": [
    "def plot_metrics(x,y):\n",
    "    plt.style.use('ggplot')   \n",
    "    x_pos = [i for i, _ in enumerate(x)]\n",
    "    plt.bar(x_pos, y, color='blue')\n",
    "    plt.xlabel(\"Classification Algorithms\")\n",
    "    plt.ylabel(\"AUC\")\n",
    "    plt.title(\"Accuracy of ML Classification Algorithms\")\n",
    "    plt.xticks(x_pos, x)\n",
    "    plt.show()\n",
    "# plot_metrics(FPR_cv, TPR_cv)"
   ]
  },
  {
   "cell_type": "markdown",
   "metadata": {},
   "source": [
    "# 2.3.5\n",
    "Using the pipeline model you selected in the previous step, re-train the pipeline model using a bigger set of rebalanced  raining data, with attack events and non-attack events being 1:2 ratio, while using all attack events data from the full data for both use cases. Then persist the better models for each use case."
   ]
  },
  {
   "cell_type": "markdown",
   "metadata": {},
   "source": [
    "#### PROCESS DATA"
   ]
  },
  {
   "cell_type": "code",
   "execution_count": 49,
   "metadata": {},
   "outputs": [
    {
     "name": "stdout",
     "output_type": "stream",
     "text": [
      "5.621750403516605\n",
      "+------+------+\n",
      "|attack| count|\n",
      "+------+------+\n",
      "|   0.0|465584|\n",
      "|   1.0|232952|\n",
      "+------+------+\n",
      "\n",
      "+--------------------+------+----------+\n",
      "|            features|attack|prediction|\n",
      "+--------------------+------+----------+\n",
      "|(24,[0,6,8,14,15,...|   0.0|       0.0|\n",
      "|(24,[0,6,8,14,15,...|   0.0|       0.0|\n",
      "|(24,[0,6,8,14,15,...|   0.0|       0.0|\n",
      "|(24,[0,6,8,14,15,...|   0.0|       0.0|\n",
      "|(24,[0,6,8,14,15,...|   0.0|       0.0|\n",
      "|(24,[0,6,8,14,15,...|   0.0|       0.0|\n",
      "|(24,[0,6,8,14,15,...|   0.0|       0.0|\n",
      "|(24,[0,6,8,14,15,...|   0.0|       0.0|\n",
      "|(24,[0,6,8,14,15,...|   0.0|       0.0|\n",
      "|(24,[0,6,8,14,15,...|   0.0|       0.0|\n",
      "|(24,[0,6,10,14,15...|   0.0|       0.0|\n",
      "|(24,[0,6,10,14,15...|   0.0|       0.0|\n",
      "|(24,[0,6,8,14,15,...|   0.0|       0.0|\n",
      "|(24,[0,6,8,14,15,...|   0.0|       0.0|\n",
      "|(24,[0,6,8,14,15,...|   0.0|       0.0|\n",
      "|(24,[0,6,8,14,15,...|   0.0|       0.0|\n",
      "|(24,[0,6,8,14,15,...|   0.0|       0.0|\n",
      "|(24,[0,6,8,14,15,...|   0.0|       0.0|\n",
      "|(24,[0,6,8,14,15,...|   0.0|       0.0|\n",
      "|(24,[0,6,8,14,15,...|   0.0|       0.0|\n",
      "+--------------------+------+----------+\n",
      "only showing top 20 rows\n",
      "\n"
     ]
    }
   ],
   "source": [
    "ratio = (major_p.count()/minor_p.count())\n",
    "output_p_0 = train_p.sampleBy(\"attack\", fractions={0: 2*(1/ratio)})\n",
    "all_data_p = output_p_0.union(minor_p)\n",
    "all_data_p.groupby('attack').count().show()\n",
    "\n",
    "# STRING INDEXING\n",
    "outputCols_p=[f'{x}_index' for x in categoryInputCols_p]\n",
    "inputIndexer_p = StringIndexer(inputCols=categoryCols_p, outputCols=outputCols_p, handleInvalid='keep')\n",
    "\n",
    "# ONE HOT ENCODING\n",
    "inputCols_OHE_p = outputCols_p\n",
    "outputCols_OHE_p = [f'{x}_vec' for x in categoryInputCols_p]\n",
    "encoder_p = OneHotEncoder(inputCols=inputCols_OHE_p, outputCols=outputCols_OHE_p)\n",
    "\n",
    "# VECTOR ASSEMBLE\n",
    "inputCols_p=outputCols_OHE_p\n",
    "assemblerInputs_p = outputCols_OHE_p + numericInputCols_p\n",
    "assembler_p = VectorAssembler(inputCols = assemblerInputs_p, outputCol=\"features\", handleInvalid='keep')\n",
    "\n",
    "#Gradient Boosted Tree \n",
    "gbt = GBTClassifier(labelCol=\"attack\")\n",
    "\n",
    "#STAGES\n",
    "stages_p_gbt = [inputIndexer_p,encoder_p,assembler_p,gbt]\n",
    "\n",
    "# PIPELINE with DECISION TREE\n",
    "pipeline_p_gbt = Pipeline(stages = stages_p_gbt)\n",
    "pipelineModel_p_gbt = pipeline_p_gbt.fit(all_data_p)\n",
    "predictions_p_gbt = pipelineModel_p_gbt.transform(test_p)\n",
    "\n",
    "Predictions_p_gbt.show()"
   ]
  },
  {
   "cell_type": "markdown",
   "metadata": {},
   "source": [
    "#### PROCESS DATA"
   ]
  },
  {
   "cell_type": "code",
   "execution_count": 50,
   "metadata": {},
   "outputs": [
    {
     "name": "stdout",
     "output_type": "stream",
     "text": [
      "8.740817171311345\n",
      "+------+------+\n",
      "|attack| count|\n",
      "+------+------+\n",
      "|   0.0|329709|\n",
      "|   1.0|164274|\n",
      "+------+------+\n",
      "\n",
      "+--------------------+------+----------+\n",
      "|            features|attack|prediction|\n",
      "+--------------------+------+----------+\n",
      "|(438,[22,428,429,...|   0.0|       0.0|\n",
      "|(438,[11,428,429,...|   0.0|       0.0|\n",
      "|(438,[26,428,429,...|   0.0|       0.0|\n",
      "|(438,[33,428,429,...|   0.0|       0.0|\n",
      "|(438,[181,428,429...|   0.0|       0.0|\n",
      "|(438,[283,428,429...|   0.0|       0.0|\n",
      "|(438,[80,428,429,...|   0.0|       0.0|\n",
      "|(438,[248,428,429...|   0.0|       0.0|\n",
      "|(438,[256,428,429...|   0.0|       0.0|\n",
      "|(438,[24,428,429,...|   0.0|       0.0|\n",
      "|(438,[133,428,429...|   0.0|       0.0|\n",
      "|(438,[87,428,429,...|   0.0|       0.0|\n",
      "|(438,[257,428,429...|   0.0|       0.0|\n",
      "|(438,[350,428,429...|   0.0|       0.0|\n",
      "|(438,[95,428,429,...|   0.0|       0.0|\n",
      "|(438,[0,428,429,4...|   0.0|       0.0|\n",
      "|(438,[8,428,429,4...|   0.0|       0.0|\n",
      "|(438,[37,428,429,...|   0.0|       0.0|\n",
      "|(438,[226,428,429...|   0.0|       0.0|\n",
      "|(438,[425,428,429...|   0.0|       0.0|\n",
      "+--------------------+------+----------+\n",
      "only showing top 20 rows\n",
      "\n"
     ]
    }
   ],
   "source": [
    "ratio = (major_m.count()/minor_m.count())\n",
    "output_m_0 = train_m.sampleBy(\"attack\", fractions={0: 2*(1/ratio)})\n",
    "all_data_m = output_m_0.union(minor_m)\n",
    "all_data_m.groupby('attack').count().show()\n",
    "\n",
    "# STRING INDEXING\n",
    "outputCols_m=[f'{x}_index' for x in categoryInputCols_m]\n",
    "inputIndexer_m = StringIndexer(inputCols=categoryCols_m, outputCols=outputCols_m, handleInvalid='keep')\n",
    "\n",
    "# ONE HOT ENCODING\n",
    "inputCols_OHE_m = outputCols_m\n",
    "outputCols_OHE_m = [f'{x}_vec' for x in categoryInputCols_m]\n",
    "encoder_m = OneHotEncoder(inputCols=inputCols_OHE_m, outputCols=outputCols_OHE_m)\n",
    "\n",
    "# VECTOR ASSEMBLE\n",
    "inputCols_m=outputCols_OHE_m\n",
    "assemblerInputs_m = outputCols_OHE_m + numericInputCols_m\n",
    "assembler_m = VectorAssembler(inputCols = assemblerInputs_m, outputCol=\"features\", handleInvalid='keep')\n",
    "\n",
    "#Gradient Boosted Tree \n",
    "gbt = GBTClassifier(labelCol=\"attack\")\n",
    "\n",
    "#STAGES\n",
    "stages_m_gbt = [inputIndexer_m,encoder_m,assembler_m,gbt]\n",
    "\n",
    "# PIPELINE with DECISION TREE\n",
    "pipeline_m_gbt = Pipeline(stages = stages_m_gbt)\n",
    "pipelineModel_m_gbt = pipeline_m_gbt.fit(all_data_m)\n",
    "predictions_m_gbt = pipelineModel_m_gbt.transform(test_m)\n",
    "\n",
    "Predictions_m_gbt.show()"
   ]
  },
  {
   "cell_type": "markdown",
   "metadata": {},
   "source": [
    "# THANK YOU "
   ]
  }
 ],
 "metadata": {
  "kernelspec": {
   "display_name": "Python 3",
   "language": "python",
   "name": "python3"
  },
  "language_info": {
   "codemirror_mode": {
    "name": "ipython",
    "version": 3
   },
   "file_extension": ".py",
   "mimetype": "text/x-python",
   "name": "python",
   "nbconvert_exporter": "python",
   "pygments_lexer": "ipython3",
   "version": "3.8.2"
  }
 },
 "nbformat": 4,
 "nbformat_minor": 4
}
